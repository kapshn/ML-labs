{
 "cells": [
  {
   "cell_type": "markdown",
   "metadata": {},
   "source": [
    "# Лабораторная работа 4"
   ]
  },
  {
   "cell_type": "markdown",
   "metadata": {},
   "source": [
    "## Классификация"
   ]
  },
  {
   "cell_type": "markdown",
   "metadata": {},
   "source": [
    "### Модель 1"
   ]
  },
  {
   "cell_type": "code",
   "execution_count": 1,
   "metadata": {},
   "outputs": [
    {
     "name": "stderr",
     "output_type": "stream",
     "text": [
      "Using TensorFlow backend.\n"
     ]
    }
   ],
   "source": [
    "# import numpy\n",
    "from keras import models\n",
    "from keras import metrics\n",
    "from keras import layers, losses\n",
    "# from numpy import loadtxt\n",
    "from keras import optimizers\n",
    "import pandas as pd\n",
    "import numpy as np\n",
    "from sklearn.preprocessing import StandardScaler\n",
    "import matplotlib.pyplot as plt\n",
    "\n",
    "from keras import backend as K\n"
   ]
  },
  {
   "cell_type": "code",
   "execution_count": 2,
   "metadata": {},
   "outputs": [],
   "source": [
    "def recall_m(y_true, y_pred):\n",
    "    true_positives = K.sum(K.round(K.clip(y_true * y_pred, 0, 1)))\n",
    "    possible_positives = K.sum(K.round(K.clip(y_true, 0, 1)))\n",
    "    recall = true_positives / (possible_positives + K.epsilon())\n",
    "    return recall\n",
    "\n",
    "\n",
    "def precision_m(y_true, y_pred):\n",
    "    true_positives = K.sum(K.round(K.clip(y_true * y_pred, 0, 1)))\n",
    "    predicted_positives = K.sum(K.round(K.clip(y_pred, 0, 1)))\n",
    "    precision = true_positives / (predicted_positives + K.epsilon())\n",
    "    return precision"
   ]
  },
  {
   "cell_type": "code",
   "execution_count": 3,
   "metadata": {},
   "outputs": [],
   "source": [
    "model = models.Sequential()\n",
    "model.add(layers.Dense(8, activation='relu', input_shape=(5,)))\n",
    "model.add(layers.Dense(8, activation='relu'))\n",
    "model.add(layers.Dense(1, activation='sigmoid'))"
   ]
  },
  {
   "cell_type": "code",
   "execution_count": 4,
   "metadata": {},
   "outputs": [],
   "source": [
    "data1 = pd.read_csv(\"mammographic_masses.data\")"
   ]
  },
  {
   "cell_type": "code",
   "execution_count": 5,
   "metadata": {},
   "outputs": [],
   "source": [
    "data1.replace('?', np.nan, inplace=True)"
   ]
  },
  {
   "cell_type": "code",
   "execution_count": 6,
   "metadata": {},
   "outputs": [],
   "source": [
    "data = data1.dropna()"
   ]
  },
  {
   "cell_type": "code",
   "execution_count": 7,
   "metadata": {},
   "outputs": [
    {
     "data": {
      "text/html": [
       "<div>\n",
       "<style scoped>\n",
       "    .dataframe tbody tr th:only-of-type {\n",
       "        vertical-align: middle;\n",
       "    }\n",
       "\n",
       "    .dataframe tbody tr th {\n",
       "        vertical-align: top;\n",
       "    }\n",
       "\n",
       "    .dataframe thead th {\n",
       "        text-align: right;\n",
       "    }\n",
       "</style>\n",
       "<table border=\"1\" class=\"dataframe\">\n",
       "  <thead>\n",
       "    <tr style=\"text-align: right;\">\n",
       "      <th></th>\n",
       "      <th>5</th>\n",
       "      <th>67</th>\n",
       "      <th>3</th>\n",
       "      <th>5.1</th>\n",
       "      <th>3.1</th>\n",
       "      <th>1</th>\n",
       "    </tr>\n",
       "  </thead>\n",
       "  <tbody>\n",
       "    <tr>\n",
       "      <th>1</th>\n",
       "      <td>5</td>\n",
       "      <td>58</td>\n",
       "      <td>4</td>\n",
       "      <td>5</td>\n",
       "      <td>3</td>\n",
       "      <td>1</td>\n",
       "    </tr>\n",
       "    <tr>\n",
       "      <th>2</th>\n",
       "      <td>4</td>\n",
       "      <td>28</td>\n",
       "      <td>1</td>\n",
       "      <td>1</td>\n",
       "      <td>3</td>\n",
       "      <td>0</td>\n",
       "    </tr>\n",
       "    <tr>\n",
       "      <th>7</th>\n",
       "      <td>5</td>\n",
       "      <td>57</td>\n",
       "      <td>1</td>\n",
       "      <td>5</td>\n",
       "      <td>3</td>\n",
       "      <td>1</td>\n",
       "    </tr>\n",
       "    <tr>\n",
       "      <th>9</th>\n",
       "      <td>5</td>\n",
       "      <td>76</td>\n",
       "      <td>1</td>\n",
       "      <td>4</td>\n",
       "      <td>3</td>\n",
       "      <td>1</td>\n",
       "    </tr>\n",
       "    <tr>\n",
       "      <th>10</th>\n",
       "      <td>3</td>\n",
       "      <td>42</td>\n",
       "      <td>2</td>\n",
       "      <td>1</td>\n",
       "      <td>3</td>\n",
       "      <td>1</td>\n",
       "    </tr>\n",
       "  </tbody>\n",
       "</table>\n",
       "</div>"
      ],
      "text/plain": [
       "    5  67  3 5.1 3.1  1\n",
       "1   5  58  4   5   3  1\n",
       "2   4  28  1   1   3  0\n",
       "7   5  57  1   5   3  1\n",
       "9   5  76  1   4   3  1\n",
       "10  3  42  2   1   3  1"
      ]
     },
     "execution_count": 7,
     "metadata": {},
     "output_type": "execute_result"
    }
   ],
   "source": [
    "data.head()"
   ]
  },
  {
   "cell_type": "code",
   "execution_count": 8,
   "metadata": {},
   "outputs": [
    {
     "data": {
      "text/plain": [
       "5      0\n",
       "67     0\n",
       "3      0\n",
       "5.1    0\n",
       "3.1    0\n",
       "1      0\n",
       "dtype: int64"
      ]
     },
     "execution_count": 8,
     "metadata": {},
     "output_type": "execute_result"
    }
   ],
   "source": [
    "data.isnull().sum()"
   ]
  },
  {
   "cell_type": "code",
   "execution_count": 9,
   "metadata": {},
   "outputs": [],
   "source": [
    "#Разбиение данных на тренировочные и тестовые\n",
    "from sklearn.model_selection import train_test_split\n",
    "\n",
    "x, y = data.iloc[:, 0:5].values, data.iloc[:, 5].values\n",
    "x_train, x_test, y_train, y_test = \\\n",
    "        train_test_split(x, y, test_size=0.3, random_state=0)\n",
    "#x, y"
   ]
  },
  {
   "cell_type": "code",
   "execution_count": 10,
   "metadata": {},
   "outputs": [],
   "source": [
    "#Стандартизация данных\n",
    "from sklearn.preprocessing import StandardScaler\n",
    "\n",
    "stdsc = StandardScaler()\n",
    "X_train_std = stdsc.fit_transform(x_train)\n",
    "X_test_std = stdsc.transform(x_test)"
   ]
  },
  {
   "cell_type": "code",
   "execution_count": 11,
   "metadata": {},
   "outputs": [],
   "source": [
    "x_val = X_train_std[:250]\n",
    "partial_x_train = X_train_std[250:]\n",
    "y_val = y_train[:250]\n",
    "partial_y_train = y_train[250:]\n",
    "\n",
    "\n",
    "metrics = ['acc', precision_m, recall_m]"
   ]
  },
  {
   "cell_type": "code",
   "execution_count": 12,
   "metadata": {
    "scrolled": true
   },
   "outputs": [
    {
     "name": "stdout",
     "output_type": "stream",
     "text": [
      "Train on 330 samples, validate on 250 samples\n",
      "Epoch 1/50\n",
      "330/330 [==============================] - 0s 669us/step - loss: 0.7802 - acc: 0.4758 - precision_m: 0.4996 - recall_m: 0.9180 - val_loss: 0.7319 - val_acc: 0.4240 - val_precision_m: 0.4157 - val_recall_m: 0.9609\n",
      "Epoch 2/50\n",
      "330/330 [==============================] - 0s 209us/step - loss: 0.7004 - acc: 0.5212 - precision_m: 0.5230 - recall_m: 0.9960 - val_loss: 0.6741 - val_acc: 0.4280 - val_precision_m: 0.4180 - val_recall_m: 0.9688\n",
      "Epoch 3/50\n",
      "330/330 [==============================] - 0s 200us/step - loss: 0.6435 - acc: 0.5242 - precision_m: 0.5247 - recall_m: 0.9960 - val_loss: 0.6346 - val_acc: 0.4960 - val_precision_m: 0.4490 - val_recall_m: 0.9531\n",
      "Epoch 4/50\n",
      "330/330 [==============================] - 0s 198us/step - loss: 0.6037 - acc: 0.6879 - precision_m: 0.6335 - recall_m: 0.9238 - val_loss: 0.6081 - val_acc: 0.7440 - val_precision_m: 0.6238 - val_recall_m: 0.8844\n",
      "Epoch 5/50\n",
      "330/330 [==============================] - 0s 190us/step - loss: 0.5755 - acc: 0.7545 - precision_m: 0.7022 - recall_m: 0.8937 - val_loss: 0.5885 - val_acc: 0.7800 - val_precision_m: 0.6684 - val_recall_m: 0.8844\n",
      "Epoch 6/50\n",
      "330/330 [==============================] - 0s 186us/step - loss: 0.5561 - acc: 0.7727 - precision_m: 0.7259 - recall_m: 0.9107 - val_loss: 0.5755 - val_acc: 0.8040 - val_precision_m: 0.6857 - val_recall_m: 0.8844\n",
      "Epoch 7/50\n",
      "330/330 [==============================] - 0s 191us/step - loss: 0.5404 - acc: 0.8000 - precision_m: 0.7455 - recall_m: 0.8630 - val_loss: 0.5607 - val_acc: 0.8120 - val_precision_m: 0.6989 - val_recall_m: 0.8766\n",
      "Epoch 8/50\n",
      "330/330 [==============================] - 0s 183us/step - loss: 0.5230 - acc: 0.8091 - precision_m: 0.7927 - recall_m: 0.8972 - val_loss: 0.5416 - val_acc: 0.8120 - val_precision_m: 0.7093 - val_recall_m: 0.8687\n",
      "Epoch 9/50\n",
      "330/330 [==============================] - 0s 184us/step - loss: 0.5023 - acc: 0.8061 - precision_m: 0.7810 - recall_m: 0.8863 - val_loss: 0.5132 - val_acc: 0.8080 - val_precision_m: 0.7072 - val_recall_m: 0.8609\n",
      "Epoch 10/50\n",
      "330/330 [==============================] - 0s 191us/step - loss: 0.4811 - acc: 0.8061 - precision_m: 0.7862 - recall_m: 0.8583 - val_loss: 0.4851 - val_acc: 0.8080 - val_precision_m: 0.7072 - val_recall_m: 0.8609\n",
      "Epoch 11/50\n",
      "330/330 [==============================] - 0s 175us/step - loss: 0.4616 - acc: 0.8091 - precision_m: 0.7902 - recall_m: 0.8690 - val_loss: 0.4626 - val_acc: 0.8120 - val_precision_m: 0.7103 - val_recall_m: 0.8609\n",
      "Epoch 12/50\n",
      "330/330 [==============================] - 0s 181us/step - loss: 0.4469 - acc: 0.8152 - precision_m: 0.7701 - recall_m: 0.8491 - val_loss: 0.4435 - val_acc: 0.8120 - val_precision_m: 0.7103 - val_recall_m: 0.8609\n",
      "Epoch 13/50\n",
      "330/330 [==============================] - 0s 187us/step - loss: 0.4351 - acc: 0.8182 - precision_m: 0.7712 - recall_m: 0.8557 - val_loss: 0.4304 - val_acc: 0.8200 - val_precision_m: 0.7187 - val_recall_m: 0.8609\n",
      "Epoch 14/50\n",
      "330/330 [==============================] - 0s 184us/step - loss: 0.4269 - acc: 0.8182 - precision_m: 0.8030 - recall_m: 0.8853 - val_loss: 0.4208 - val_acc: 0.8200 - val_precision_m: 0.7187 - val_recall_m: 0.8609\n",
      "Epoch 15/50\n",
      "330/330 [==============================] - 0s 185us/step - loss: 0.4205 - acc: 0.8212 - precision_m: 0.8256 - recall_m: 0.8551 - val_loss: 0.4128 - val_acc: 0.8160 - val_precision_m: 0.7171 - val_recall_m: 0.8531\n",
      "Epoch 16/50\n",
      "330/330 [==============================] - 0s 189us/step - loss: 0.4155 - acc: 0.8212 - precision_m: 0.8130 - recall_m: 0.8698 - val_loss: 0.4062 - val_acc: 0.8160 - val_precision_m: 0.7171 - val_recall_m: 0.8531\n",
      "Epoch 17/50\n",
      "330/330 [==============================] - 0s 197us/step - loss: 0.4117 - acc: 0.8212 - precision_m: 0.8044 - recall_m: 0.8702 - val_loss: 0.4012 - val_acc: 0.8240 - val_precision_m: 0.7265 - val_recall_m: 0.8531\n",
      "Epoch 18/50\n",
      "330/330 [==============================] - 0s 195us/step - loss: 0.4085 - acc: 0.8242 - precision_m: 0.8173 - recall_m: 0.8807 - val_loss: 0.3980 - val_acc: 0.8240 - val_precision_m: 0.7265 - val_recall_m: 0.8531\n",
      "Epoch 19/50\n",
      "330/330 [==============================] - 0s 191us/step - loss: 0.4058 - acc: 0.8273 - precision_m: 0.7946 - recall_m: 0.8462 - val_loss: 0.3953 - val_acc: 0.8240 - val_precision_m: 0.7265 - val_recall_m: 0.8531\n",
      "Epoch 20/50\n",
      "330/330 [==============================] - 0s 192us/step - loss: 0.4039 - acc: 0.8273 - precision_m: 0.8278 - recall_m: 0.8692 - val_loss: 0.3934 - val_acc: 0.8280 - val_precision_m: 0.7364 - val_recall_m: 0.8453\n",
      "Epoch 21/50\n",
      "330/330 [==============================] - 0s 199us/step - loss: 0.4010 - acc: 0.8333 - precision_m: 0.8171 - recall_m: 0.8781 - val_loss: 0.3920 - val_acc: 0.8280 - val_precision_m: 0.7400 - val_recall_m: 0.8349\n",
      "Epoch 22/50\n",
      "330/330 [==============================] - 0s 192us/step - loss: 0.3995 - acc: 0.8364 - precision_m: 0.8315 - recall_m: 0.8735 - val_loss: 0.3906 - val_acc: 0.8320 - val_precision_m: 0.7442 - val_recall_m: 0.8349\n",
      "Epoch 23/50\n",
      "330/330 [==============================] - 0s 200us/step - loss: 0.3982 - acc: 0.8303 - precision_m: 0.8212 - recall_m: 0.8611 - val_loss: 0.3887 - val_acc: 0.8360 - val_precision_m: 0.7504 - val_recall_m: 0.8349\n",
      "Epoch 24/50\n",
      "330/330 [==============================] - 0s 195us/step - loss: 0.3960 - acc: 0.8364 - precision_m: 0.8339 - recall_m: 0.8743 - val_loss: 0.3877 - val_acc: 0.8360 - val_precision_m: 0.7504 - val_recall_m: 0.8349\n",
      "Epoch 25/50\n",
      "330/330 [==============================] - 0s 197us/step - loss: 0.3951 - acc: 0.8364 - precision_m: 0.8445 - recall_m: 0.8672 - val_loss: 0.3859 - val_acc: 0.8360 - val_precision_m: 0.7504 - val_recall_m: 0.8349\n",
      "Epoch 26/50\n",
      "330/330 [==============================] - 0s 194us/step - loss: 0.3945 - acc: 0.8424 - precision_m: 0.8456 - recall_m: 0.9010 - val_loss: 0.3848 - val_acc: 0.8360 - val_precision_m: 0.7504 - val_recall_m: 0.8349\n",
      "Epoch 27/50\n",
      "330/330 [==============================] - 0s 187us/step - loss: 0.3923 - acc: 0.8424 - precision_m: 0.8594 - recall_m: 0.8817 - val_loss: 0.3833 - val_acc: 0.8400 - val_precision_m: 0.7567 - val_recall_m: 0.8349\n",
      "Epoch 28/50\n",
      "330/330 [==============================] - 0s 185us/step - loss: 0.3913 - acc: 0.8424 - precision_m: 0.8380 - recall_m: 0.8829 - val_loss: 0.3827 - val_acc: 0.8400 - val_precision_m: 0.7567 - val_recall_m: 0.8349\n",
      "Epoch 29/50\n",
      "330/330 [==============================] - 0s 197us/step - loss: 0.3900 - acc: 0.8424 - precision_m: 0.8359 - recall_m: 0.8789 - val_loss: 0.3819 - val_acc: 0.8400 - val_precision_m: 0.7567 - val_recall_m: 0.8349\n",
      "Epoch 30/50\n",
      "330/330 [==============================] - 0s 196us/step - loss: 0.3893 - acc: 0.8424 - precision_m: 0.8077 - recall_m: 0.8303 - val_loss: 0.3809 - val_acc: 0.8400 - val_precision_m: 0.7567 - val_recall_m: 0.8349\n",
      "Epoch 31/50\n",
      "330/330 [==============================] - 0s 192us/step - loss: 0.3879 - acc: 0.8455 - precision_m: 0.8546 - recall_m: 0.8774 - val_loss: 0.3799 - val_acc: 0.8400 - val_precision_m: 0.7567 - val_recall_m: 0.8349\n",
      "Epoch 32/50\n",
      "330/330 [==============================] - 0s 192us/step - loss: 0.3867 - acc: 0.8455 - precision_m: 0.8595 - recall_m: 0.8773 - val_loss: 0.3796 - val_acc: 0.8400 - val_precision_m: 0.7567 - val_recall_m: 0.8349\n",
      "Epoch 33/50\n",
      "330/330 [==============================] - 0s 195us/step - loss: 0.3850 - acc: 0.8424 - precision_m: 0.8404 - recall_m: 0.8718 - val_loss: 0.3801 - val_acc: 0.8400 - val_precision_m: 0.7567 - val_recall_m: 0.8349\n",
      "Epoch 34/50\n",
      "330/330 [==============================] - 0s 183us/step - loss: 0.3847 - acc: 0.8455 - precision_m: 0.8367 - recall_m: 0.8756 - val_loss: 0.3792 - val_acc: 0.8400 - val_precision_m: 0.7567 - val_recall_m: 0.8349\n",
      "Epoch 35/50\n",
      "330/330 [==============================] - 0s 183us/step - loss: 0.3835 - acc: 0.8424 - precision_m: 0.8202 - recall_m: 0.8727 - val_loss: 0.3778 - val_acc: 0.8480 - val_precision_m: 0.7702 - val_recall_m: 0.8349\n",
      "Epoch 36/50\n",
      "330/330 [==============================] - 0s 178us/step - loss: 0.3822 - acc: 0.8485 - precision_m: 0.8563 - recall_m: 0.8779 - val_loss: 0.3780 - val_acc: 0.8400 - val_precision_m: 0.7567 - val_recall_m: 0.8349\n",
      "Epoch 37/50\n"
     ]
    },
    {
     "name": "stdout",
     "output_type": "stream",
     "text": [
      "330/330 [==============================] - 0s 187us/step - loss: 0.3815 - acc: 0.8455 - precision_m: 0.8557 - recall_m: 0.8603 - val_loss: 0.3780 - val_acc: 0.8400 - val_precision_m: 0.7567 - val_recall_m: 0.8349\n",
      "Epoch 38/50\n",
      "330/330 [==============================] - 0s 183us/step - loss: 0.3814 - acc: 0.8485 - precision_m: 0.8472 - recall_m: 0.8694 - val_loss: 0.3774 - val_acc: 0.8400 - val_precision_m: 0.7567 - val_recall_m: 0.8349\n",
      "Epoch 39/50\n",
      "330/330 [==============================] - 0s 189us/step - loss: 0.3798 - acc: 0.8485 - precision_m: 0.8484 - recall_m: 0.8619 - val_loss: 0.3774 - val_acc: 0.8400 - val_precision_m: 0.7567 - val_recall_m: 0.8349\n",
      "Epoch 40/50\n",
      "330/330 [==============================] - 0s 180us/step - loss: 0.3801 - acc: 0.8455 - precision_m: 0.8249 - recall_m: 0.8395 - val_loss: 0.3767 - val_acc: 0.8440 - val_precision_m: 0.7682 - val_recall_m: 0.8271\n",
      "Epoch 41/50\n",
      "330/330 [==============================] - 0s 193us/step - loss: 0.3788 - acc: 0.8485 - precision_m: 0.8725 - recall_m: 0.8529 - val_loss: 0.3769 - val_acc: 0.8440 - val_precision_m: 0.7682 - val_recall_m: 0.8271\n",
      "Epoch 42/50\n",
      "330/330 [==============================] - 0s 196us/step - loss: 0.3781 - acc: 0.8485 - precision_m: 0.8234 - recall_m: 0.8664 - val_loss: 0.3763 - val_acc: 0.8440 - val_precision_m: 0.7682 - val_recall_m: 0.8271\n",
      "Epoch 43/50\n",
      "330/330 [==============================] - 0s 197us/step - loss: 0.3776 - acc: 0.8485 - precision_m: 0.8204 - recall_m: 0.8328 - val_loss: 0.3762 - val_acc: 0.8440 - val_precision_m: 0.7682 - val_recall_m: 0.8271\n",
      "Epoch 44/50\n",
      "330/330 [==============================] - 0s 198us/step - loss: 0.3766 - acc: 0.8455 - precision_m: 0.8601 - recall_m: 0.8634 - val_loss: 0.3762 - val_acc: 0.8360 - val_precision_m: 0.7562 - val_recall_m: 0.8208\n",
      "Epoch 45/50\n",
      "330/330 [==============================] - 0s 195us/step - loss: 0.3760 - acc: 0.8485 - precision_m: 0.8252 - recall_m: 0.8408 - val_loss: 0.3758 - val_acc: 0.8360 - val_precision_m: 0.7562 - val_recall_m: 0.8208\n",
      "Epoch 46/50\n",
      "330/330 [==============================] - 0s 196us/step - loss: 0.3748 - acc: 0.8455 - precision_m: 0.8431 - recall_m: 0.8655 - val_loss: 0.3762 - val_acc: 0.8360 - val_precision_m: 0.7562 - val_recall_m: 0.8208\n",
      "Epoch 47/50\n",
      "330/330 [==============================] - 0s 191us/step - loss: 0.3745 - acc: 0.8455 - precision_m: 0.8526 - recall_m: 0.8587 - val_loss: 0.3761 - val_acc: 0.8360 - val_precision_m: 0.7562 - val_recall_m: 0.8208\n",
      "Epoch 48/50\n",
      "330/330 [==============================] - 0s 195us/step - loss: 0.3737 - acc: 0.8455 - precision_m: 0.8472 - recall_m: 0.8450 - val_loss: 0.3760 - val_acc: 0.8360 - val_precision_m: 0.7562 - val_recall_m: 0.8208\n",
      "Epoch 49/50\n",
      "330/330 [==============================] - 0s 206us/step - loss: 0.3729 - acc: 0.8455 - precision_m: 0.8551 - recall_m: 0.8604 - val_loss: 0.3760 - val_acc: 0.8320 - val_precision_m: 0.7536 - val_recall_m: 0.8130\n",
      "Epoch 50/50\n",
      "330/330 [==============================] - 0s 198us/step - loss: 0.3724 - acc: 0.8485 - precision_m: 0.8551 - recall_m: 0.8633 - val_loss: 0.3761 - val_acc: 0.8320 - val_precision_m: 0.7536 - val_recall_m: 0.8130\n"
     ]
    }
   ],
   "source": [
    "model.compile(optimizer='rmsprop',\n",
    "              loss='binary_crossentropy',\n",
    "              metrics = metrics)\n",
    "history = model.fit(partial_x_train,\n",
    "                    partial_y_train,\n",
    "                    epochs=50,\n",
    "                    batch_size=8,\n",
    "                    validation_data=(x_val, y_val))"
   ]
  },
  {
   "cell_type": "code",
   "execution_count": null,
   "metadata": {},
   "outputs": [],
   "source": []
  },
  {
   "cell_type": "code",
   "execution_count": 13,
   "metadata": {},
   "outputs": [
    {
     "name": "stdout",
     "output_type": "stream",
     "text": [
      "\n",
      "train results:\n",
      "\n",
      "loss=0.37, accuracy=0.84, precision=0.83, recall=0.87\n",
      "\n",
      "test results:\n",
      "\n",
      "loss=0.44, accuracy=0.80, precision=0.79, recall=0.83\n"
     ]
    }
   ],
   "source": [
    "print('\\ntrain results:\\n')\n",
    "loss, accuracy, precision, recall = model.evaluate(X_train_std, y_train, verbose=0)\n",
    "print(\"loss={:.2f}, accuracy={:.2f}, precision={:.2f}, recall={:.2f}\".format(loss, accuracy, precision, recall))\n",
    "\n",
    "print('\\ntest results:\\n')\n",
    "loss, accuracy, precision, recall = model.evaluate(X_test_std, y_test, verbose=0)\n",
    "print(\"loss={:.2f}, accuracy={:.2f}, precision={:.2f}, recall={:.2f}\".format(loss, accuracy, precision, recall))"
   ]
  },
  {
   "cell_type": "code",
   "execution_count": 14,
   "metadata": {},
   "outputs": [],
   "source": [
    "history_dict = history.history\n",
    "#history_dict.keys()"
   ]
  },
  {
   "cell_type": "code",
   "execution_count": 15,
   "metadata": {},
   "outputs": [
    {
     "data": {
      "image/png": "[encoded data removed]",
      "text/plain": [
       "<Figure size 432x288 with 1 Axes>"
      ]
     },
     "metadata": {
      "needs_background": "light"
     },
     "output_type": "display_data"
    }
   ],
   "source": [
    "import matplotlib.pyplot as plt\n",
    "history_dict = history.history\n",
    "loss_values = history_dict['loss']\n",
    "val_loss_values = history_dict['val_loss']\n",
    "epochs = range(1, len(history_dict['acc']) + 1)\n",
    "plt.plot(epochs, loss_values, 'bo', label='Training loss')\n",
    "plt.plot(epochs, val_loss_values, 'b', label='Validation loss')\n",
    "plt.title('Training and validation loss')\n",
    "plt.xlabel('Epochs')\n",
    "\n",
    "plt.ylabel('Loss')\n",
    "plt.legend()\n",
    "plt.show()"
   ]
  },
  {
   "cell_type": "code",
   "execution_count": 16,
   "metadata": {
    "scrolled": false
   },
   "outputs": [
    {
     "data": {
      "image/png": "[encoded data removed]",
      "text/plain": [
       "<Figure size 432x288 with 1 Axes>"
      ]
     },
     "metadata": {
      "needs_background": "light"
     },
     "output_type": "display_data"
    }
   ],
   "source": [
    "acc_values = history_dict['acc'] \n",
    "val_acc_values = history_dict['val_acc']\n",
    "plt.plot(epochs, acc_values, 'bo', label='Training acc')\n",
    "plt.plot(epochs, val_acc_values, 'b', label='Validation acc')\n",
    "plt.title('Training and validation accuracy')\n",
    "plt.xlabel('Epochs')\n",
    "plt.ylabel('Accuracy')\n",
    "plt.legend()\n",
    "plt.show()"
   ]
  },
  {
   "cell_type": "code",
   "execution_count": null,
   "metadata": {},
   "outputs": [],
   "source": []
  },
  {
   "cell_type": "markdown",
   "metadata": {},
   "source": [
    "### Модель 2"
   ]
  },
  {
   "cell_type": "code",
   "execution_count": 17,
   "metadata": {},
   "outputs": [],
   "source": [
    "model = models.Sequential()\n",
    "model.add(layers.Dense(16, activation='relu', input_shape=(5,)))\n",
    "model.add(layers.Dense(4, activation='relu'))\n",
    "model.add(layers.Dense(1, activation='sigmoid'))"
   ]
  },
  {
   "cell_type": "code",
   "execution_count": 18,
   "metadata": {
    "scrolled": true
   },
   "outputs": [
    {
     "name": "stdout",
     "output_type": "stream",
     "text": [
      "Train on 330 samples, validate on 250 samples\n",
      "Epoch 1/30\n",
      "330/330 [==============================] - 0s 590us/step - loss: 0.2490 - acc: 0.5242 - precision_m: 0.5238 - recall_m: 1.0000 - val_loss: 0.2428 - val_acc: 0.4480 - val_precision_m: 0.4269 - val_recall_m: 0.9688\n",
      "Epoch 2/30\n",
      "330/330 [==============================] - 0s 201us/step - loss: 0.2198 - acc: 0.5394 - precision_m: 0.5315 - recall_m: 0.9960 - val_loss: 0.2187 - val_acc: 0.4880 - val_precision_m: 0.4412 - val_recall_m: 0.9427\n",
      "Epoch 3/30\n",
      "330/330 [==============================] - 0s 191us/step - loss: 0.2024 - acc: 0.6636 - precision_m: 0.6048 - recall_m: 0.9107 - val_loss: 0.2049 - val_acc: 0.7680 - val_precision_m: 0.6475 - val_recall_m: 0.9193\n",
      "Epoch 4/30\n",
      "330/330 [==============================] - 0s 187us/step - loss: 0.1919 - acc: 0.7545 - precision_m: 0.7064 - recall_m: 0.9008 - val_loss: 0.1967 - val_acc: 0.8040 - val_precision_m: 0.6833 - val_recall_m: 0.8802\n",
      "Epoch 5/30\n",
      "330/330 [==============================] - 0s 184us/step - loss: 0.1848 - acc: 0.7788 - precision_m: 0.7396 - recall_m: 0.9039 - val_loss: 0.1916 - val_acc: 0.8080 - val_precision_m: 0.6964 - val_recall_m: 0.8724\n",
      "Epoch 6/30\n",
      "330/330 [==============================] - 0s 177us/step - loss: 0.1797 - acc: 0.7879 - precision_m: 0.7651 - recall_m: 0.9120 - val_loss: 0.1875 - val_acc: 0.8160 - val_precision_m: 0.7088 - val_recall_m: 0.8568\n",
      "Epoch 7/30\n",
      "330/330 [==============================] - 0s 182us/step - loss: 0.1757 - acc: 0.8030 - precision_m: 0.7793 - recall_m: 0.8841 - val_loss: 0.1838 - val_acc: 0.8360 - val_precision_m: 0.7348 - val_recall_m: 0.8505\n",
      "Epoch 8/30\n",
      "330/330 [==============================] - 0s 182us/step - loss: 0.1719 - acc: 0.8091 - precision_m: 0.8082 - recall_m: 0.8726 - val_loss: 0.1802 - val_acc: 0.8360 - val_precision_m: 0.7348 - val_recall_m: 0.8505\n",
      "Epoch 9/30\n",
      "330/330 [==============================] - 0s 170us/step - loss: 0.1690 - acc: 0.8152 - precision_m: 0.7929 - recall_m: 0.8742 - val_loss: 0.1773 - val_acc: 0.8360 - val_precision_m: 0.7348 - val_recall_m: 0.8505\n",
      "Epoch 10/30\n",
      "330/330 [==============================] - 0s 175us/step - loss: 0.1662 - acc: 0.8212 - precision_m: 0.7743 - recall_m: 0.8167 - val_loss: 0.1743 - val_acc: 0.8400 - val_precision_m: 0.7458 - val_recall_m: 0.8271\n",
      "Epoch 11/30\n",
      "330/330 [==============================] - 0s 176us/step - loss: 0.1637 - acc: 0.8212 - precision_m: 0.8074 - recall_m: 0.8373 - val_loss: 0.1715 - val_acc: 0.8400 - val_precision_m: 0.7458 - val_recall_m: 0.8271\n",
      "Epoch 12/30\n",
      "330/330 [==============================] - 0s 171us/step - loss: 0.1611 - acc: 0.8242 - precision_m: 0.8152 - recall_m: 0.8373 - val_loss: 0.1685 - val_acc: 0.8440 - val_precision_m: 0.7583 - val_recall_m: 0.8193\n",
      "Epoch 13/30\n",
      "330/330 [==============================] - 0s 183us/step - loss: 0.1589 - acc: 0.8242 - precision_m: 0.8111 - recall_m: 0.8553 - val_loss: 0.1663 - val_acc: 0.8440 - val_precision_m: 0.7583 - val_recall_m: 0.8193\n",
      "Epoch 14/30\n",
      "330/330 [==============================] - 0s 177us/step - loss: 0.1565 - acc: 0.8273 - precision_m: 0.8190 - recall_m: 0.8533 - val_loss: 0.1639 - val_acc: 0.8480 - val_precision_m: 0.7620 - val_recall_m: 0.8193\n",
      "Epoch 15/30\n",
      "330/330 [==============================] - 0s 179us/step - loss: 0.1545 - acc: 0.8303 - precision_m: 0.7837 - recall_m: 0.8147 - val_loss: 0.1618 - val_acc: 0.8480 - val_precision_m: 0.7620 - val_recall_m: 0.8193\n",
      "Epoch 16/30\n",
      "330/330 [==============================] - 0s 186us/step - loss: 0.1526 - acc: 0.8303 - precision_m: 0.8162 - recall_m: 0.8312 - val_loss: 0.1595 - val_acc: 0.8480 - val_precision_m: 0.7620 - val_recall_m: 0.8193\n",
      "Epoch 17/30\n",
      "330/330 [==============================] - 0s 177us/step - loss: 0.1509 - acc: 0.8273 - precision_m: 0.8043 - recall_m: 0.8192 - val_loss: 0.1579 - val_acc: 0.8480 - val_precision_m: 0.7620 - val_recall_m: 0.8193\n",
      "Epoch 18/30\n",
      "330/330 [==============================] - 0s 177us/step - loss: 0.1491 - acc: 0.8303 - precision_m: 0.8060 - recall_m: 0.7969 - val_loss: 0.1560 - val_acc: 0.8440 - val_precision_m: 0.7729 - val_recall_m: 0.8036\n",
      "Epoch 19/30\n",
      "330/330 [==============================] - 0s 174us/step - loss: 0.1474 - acc: 0.8364 - precision_m: 0.8252 - recall_m: 0.8094 - val_loss: 0.1539 - val_acc: 0.8440 - val_precision_m: 0.7729 - val_recall_m: 0.8036\n",
      "Epoch 20/30\n",
      "330/330 [==============================] - 0s 172us/step - loss: 0.1457 - acc: 0.8333 - precision_m: 0.8448 - recall_m: 0.8401 - val_loss: 0.1521 - val_acc: 0.8440 - val_precision_m: 0.7729 - val_recall_m: 0.8036\n",
      "Epoch 21/30\n",
      "330/330 [==============================] - 0s 167us/step - loss: 0.1442 - acc: 0.8394 - precision_m: 0.8422 - recall_m: 0.8286 - val_loss: 0.1507 - val_acc: 0.8440 - val_precision_m: 0.7740 - val_recall_m: 0.8036\n",
      "Epoch 22/30\n",
      "330/330 [==============================] - 0s 183us/step - loss: 0.1427 - acc: 0.8394 - precision_m: 0.8362 - recall_m: 0.8054 - val_loss: 0.1489 - val_acc: 0.8440 - val_precision_m: 0.7740 - val_recall_m: 0.8036\n",
      "Epoch 23/30\n",
      "330/330 [==============================] - 0s 183us/step - loss: 0.1412 - acc: 0.8424 - precision_m: 0.8820 - recall_m: 0.8056 - val_loss: 0.1475 - val_acc: 0.8440 - val_precision_m: 0.7740 - val_recall_m: 0.8036\n",
      "Epoch 24/30\n",
      "330/330 [==============================] - 0s 181us/step - loss: 0.1399 - acc: 0.8485 - precision_m: 0.8702 - recall_m: 0.8337 - val_loss: 0.1461 - val_acc: 0.8440 - val_precision_m: 0.7740 - val_recall_m: 0.8036\n",
      "Epoch 25/30\n",
      "330/330 [==============================] - 0s 180us/step - loss: 0.1385 - acc: 0.8424 - precision_m: 0.8556 - recall_m: 0.8362 - val_loss: 0.1448 - val_acc: 0.8400 - val_precision_m: 0.7719 - val_recall_m: 0.7958\n",
      "Epoch 26/30\n",
      "330/330 [==============================] - 0s 182us/step - loss: 0.1372 - acc: 0.8424 - precision_m: 0.8472 - recall_m: 0.8027 - val_loss: 0.1442 - val_acc: 0.8280 - val_precision_m: 0.7547 - val_recall_m: 0.7802\n",
      "Epoch 27/30\n",
      "330/330 [==============================] - 0s 185us/step - loss: 0.1360 - acc: 0.8424 - precision_m: 0.8704 - recall_m: 0.8323 - val_loss: 0.1427 - val_acc: 0.8280 - val_precision_m: 0.7547 - val_recall_m: 0.7802\n",
      "Epoch 28/30\n",
      "330/330 [==============================] - 0s 179us/step - loss: 0.1347 - acc: 0.8424 - precision_m: 0.8531 - recall_m: 0.8126 - val_loss: 0.1418 - val_acc: 0.8280 - val_precision_m: 0.7547 - val_recall_m: 0.7802\n",
      "Epoch 29/30\n",
      "330/330 [==============================] - 0s 175us/step - loss: 0.1337 - acc: 0.8455 - precision_m: 0.8511 - recall_m: 0.8111 - val_loss: 0.1407 - val_acc: 0.8280 - val_precision_m: 0.7547 - val_recall_m: 0.7802\n",
      "Epoch 30/30\n",
      "330/330 [==============================] - 0s 177us/step - loss: 0.1325 - acc: 0.8515 - precision_m: 0.8922 - recall_m: 0.8351 - val_loss: 0.1403 - val_acc: 0.8240 - val_precision_m: 0.7510 - val_recall_m: 0.7802\n"
     ]
    }
   ],
   "source": [
    "model.compile(optimizer='rmsprop',\n",
    "              loss='mse',\n",
    "              metrics = metrics)\n",
    "history = model.fit(partial_x_train,\n",
    "                    partial_y_train,\n",
    "                    epochs=30,\n",
    "                    batch_size=8,\n",
    "                    validation_data=(x_val, y_val))"
   ]
  },
  {
   "cell_type": "code",
   "execution_count": 19,
   "metadata": {},
   "outputs": [
    {
     "name": "stdout",
     "output_type": "stream",
     "text": [
      "\n",
      "train results:\n",
      "\n",
      "loss=0.14, accuracy=0.84, precision=0.84, recall=0.84\n",
      "\n",
      "test results:\n",
      "\n",
      "loss=0.15, accuracy=0.80, precision=0.78, recall=0.85\n"
     ]
    }
   ],
   "source": [
    "print('\\ntrain results:\\n')\n",
    "loss, accuracy, precision, recall = model.evaluate(X_train_std, y_train, verbose=0)\n",
    "print(\"loss={:.2f}, accuracy={:.2f}, precision={:.2f}, recall={:.2f}\".format(loss, accuracy, precision, recall))\n",
    "\n",
    "print('\\ntest results:\\n')\n",
    "loss, accuracy, precision, recall = model.evaluate(X_test_std, y_test, verbose=0)\n",
    "print(\"loss={:.2f}, accuracy={:.2f}, precision={:.2f}, recall={:.2f}\".format(loss, accuracy, precision, recall))"
   ]
  },
  {
   "cell_type": "code",
   "execution_count": 20,
   "metadata": {
    "scrolled": true
   },
   "outputs": [
    {
     "data": {
      "image/png": "[encoded data removed]",
      "text/plain": [
       "<Figure size 432x288 with 1 Axes>"
      ]
     },
     "metadata": {
      "needs_background": "light"
     },
     "output_type": "display_data"
    }
   ],
   "source": [
    "import matplotlib.pyplot as plt\n",
    "history_dict = history.history\n",
    "loss_values = history_dict['loss']\n",
    "val_loss_values = history_dict['val_loss']\n",
    "epochs = range(1, len(history_dict['acc']) + 1)\n",
    "plt.plot(epochs, loss_values, 'bo', label='Training loss')\n",
    "plt.plot(epochs, val_loss_values, 'b', label='Validation loss')\n",
    "plt.title('Training and validation loss')\n",
    "plt.xlabel('Epochs')\n",
    "\n",
    "plt.ylabel('Loss')\n",
    "plt.legend()\n",
    "plt.show()"
   ]
  },
  {
   "cell_type": "code",
   "execution_count": 21,
   "metadata": {
    "scrolled": false
   },
   "outputs": [
    {
     "data": {
      "image/png": "[encoded data removed]",
      "text/plain": [
       "<Figure size 432x288 with 1 Axes>"
      ]
     },
     "metadata": {
      "needs_background": "light"
     },
     "output_type": "display_data"
    }
   ],
   "source": [
    "acc_values = history_dict['acc'] \n",
    "val_acc_values = history_dict['val_acc']\n",
    "plt.plot(epochs, acc_values, 'bo', label='Training acc')\n",
    "plt.plot(epochs, val_acc_values, 'b', label='Validation acc')\n",
    "plt.title('Training and validation accuracy')\n",
    "plt.xlabel('Epochs')\n",
    "plt.ylabel('Accuracy')\n",
    "plt.legend()\n",
    "plt.show()"
   ]
  },
  {
   "cell_type": "markdown",
   "metadata": {},
   "source": [
    "## Регрессия"
   ]
  },
  {
   "cell_type": "code",
   "execution_count": 22,
   "metadata": {},
   "outputs": [],
   "source": [
    "import numpy\n",
    "from keras import models, Sequential\n",
    "from keras import layers, losses\n",
    "from keras.layers import Dense\n",
    "from numpy import loadtxt\n",
    "from keras import optimizers\n",
    "import pandas as pd\n",
    "# import numpy as np\n",
    "from sklearn.preprocessing import StandardScaler\n"
   ]
  },
  {
   "cell_type": "code",
   "execution_count": 23,
   "metadata": {},
   "outputs": [],
   "source": [
    "def build_model():\n",
    "  model = models.Sequential([\n",
    "    layers.Dense(64, activation='relu', input_shape=[len(data.keys())-1]),\n",
    "    layers.Dense(64, activation='relu'),\n",
    "    layers.Dense(1)\n",
    "  ])\n",
    "  model.compile(optimizer='rmsprop',\n",
    "              loss='mse',\n",
    "              metrics = ['mae','mse'])\n",
    "  return model"
   ]
  },
  {
   "cell_type": "code",
   "execution_count": 24,
   "metadata": {},
   "outputs": [],
   "source": [
    "data = pd.read_csv(\"winequality-red.csv\")"
   ]
  },
  {
   "cell_type": "code",
   "execution_count": 25,
   "metadata": {},
   "outputs": [
    {
     "data": {
      "text/html": [
       "<div>\n",
       "<style scoped>\n",
       "    .dataframe tbody tr th:only-of-type {\n",
       "        vertical-align: middle;\n",
       "    }\n",
       "\n",
       "    .dataframe tbody tr th {\n",
       "        vertical-align: top;\n",
       "    }\n",
       "\n",
       "    .dataframe thead th {\n",
       "        text-align: right;\n",
       "    }\n",
       "</style>\n",
       "<table border=\"1\" class=\"dataframe\">\n",
       "  <thead>\n",
       "    <tr style=\"text-align: right;\">\n",
       "      <th></th>\n",
       "      <th>fixed acidity</th>\n",
       "      <th>volatile acidity</th>\n",
       "      <th>citric acid</th>\n",
       "      <th>residual sugar</th>\n",
       "      <th>chlorides</th>\n",
       "      <th>free sulfur dioxide</th>\n",
       "      <th>total sulfur dioxide</th>\n",
       "      <th>density</th>\n",
       "      <th>pH</th>\n",
       "      <th>sulphates</th>\n",
       "      <th>alcohol</th>\n",
       "      <th>quality</th>\n",
       "    </tr>\n",
       "  </thead>\n",
       "  <tbody>\n",
       "    <tr>\n",
       "      <th>0</th>\n",
       "      <td>7.4</td>\n",
       "      <td>0.70</td>\n",
       "      <td>0.00</td>\n",
       "      <td>1.9</td>\n",
       "      <td>0.076</td>\n",
       "      <td>11.0</td>\n",
       "      <td>34.0</td>\n",
       "      <td>0.9978</td>\n",
       "      <td>3.51</td>\n",
       "      <td>0.56</td>\n",
       "      <td>9.4</td>\n",
       "      <td>5</td>\n",
       "    </tr>\n",
       "    <tr>\n",
       "      <th>1</th>\n",
       "      <td>7.8</td>\n",
       "      <td>0.88</td>\n",
       "      <td>0.00</td>\n",
       "      <td>2.6</td>\n",
       "      <td>0.098</td>\n",
       "      <td>25.0</td>\n",
       "      <td>67.0</td>\n",
       "      <td>0.9968</td>\n",
       "      <td>3.20</td>\n",
       "      <td>0.68</td>\n",
       "      <td>9.8</td>\n",
       "      <td>5</td>\n",
       "    </tr>\n",
       "    <tr>\n",
       "      <th>2</th>\n",
       "      <td>7.8</td>\n",
       "      <td>0.76</td>\n",
       "      <td>0.04</td>\n",
       "      <td>2.3</td>\n",
       "      <td>0.092</td>\n",
       "      <td>15.0</td>\n",
       "      <td>54.0</td>\n",
       "      <td>0.9970</td>\n",
       "      <td>3.26</td>\n",
       "      <td>0.65</td>\n",
       "      <td>9.8</td>\n",
       "      <td>5</td>\n",
       "    </tr>\n",
       "    <tr>\n",
       "      <th>3</th>\n",
       "      <td>11.2</td>\n",
       "      <td>0.28</td>\n",
       "      <td>0.56</td>\n",
       "      <td>1.9</td>\n",
       "      <td>0.075</td>\n",
       "      <td>17.0</td>\n",
       "      <td>60.0</td>\n",
       "      <td>0.9980</td>\n",
       "      <td>3.16</td>\n",
       "      <td>0.58</td>\n",
       "      <td>9.8</td>\n",
       "      <td>6</td>\n",
       "    </tr>\n",
       "    <tr>\n",
       "      <th>4</th>\n",
       "      <td>7.4</td>\n",
       "      <td>0.70</td>\n",
       "      <td>0.00</td>\n",
       "      <td>1.9</td>\n",
       "      <td>0.076</td>\n",
       "      <td>11.0</td>\n",
       "      <td>34.0</td>\n",
       "      <td>0.9978</td>\n",
       "      <td>3.51</td>\n",
       "      <td>0.56</td>\n",
       "      <td>9.4</td>\n",
       "      <td>5</td>\n",
       "    </tr>\n",
       "  </tbody>\n",
       "</table>\n",
       "</div>"
      ],
      "text/plain": [
       "   fixed acidity  volatile acidity  citric acid  residual sugar  chlorides  \\\n",
       "0            7.4              0.70         0.00             1.9      0.076   \n",
       "1            7.8              0.88         0.00             2.6      0.098   \n",
       "2            7.8              0.76         0.04             2.3      0.092   \n",
       "3           11.2              0.28         0.56             1.9      0.075   \n",
       "4            7.4              0.70         0.00             1.9      0.076   \n",
       "\n",
       "   free sulfur dioxide  total sulfur dioxide  density    pH  sulphates  \\\n",
       "0                 11.0                  34.0   0.9978  3.51       0.56   \n",
       "1                 25.0                  67.0   0.9968  3.20       0.68   \n",
       "2                 15.0                  54.0   0.9970  3.26       0.65   \n",
       "3                 17.0                  60.0   0.9980  3.16       0.58   \n",
       "4                 11.0                  34.0   0.9978  3.51       0.56   \n",
       "\n",
       "   alcohol  quality  \n",
       "0      9.4        5  \n",
       "1      9.8        5  \n",
       "2      9.8        5  \n",
       "3      9.8        6  \n",
       "4      9.4        5  "
      ]
     },
     "execution_count": 25,
     "metadata": {},
     "output_type": "execute_result"
    }
   ],
   "source": [
    "data.head()"
   ]
  },
  {
   "cell_type": "code",
   "execution_count": 26,
   "metadata": {},
   "outputs": [],
   "source": [
    "model = build_model()"
   ]
  },
  {
   "cell_type": "code",
   "execution_count": 27,
   "metadata": {},
   "outputs": [],
   "source": [
    "from sklearn.model_selection import train_test_split\n",
    "\n",
    "X = data.iloc[:, :-1].values\n",
    "y = data['quality'].values\n",
    "from sklearn.preprocessing import MinMaxScaler\n",
    "MMS = MinMaxScaler()\n",
    "X = MMS.fit_transform(X)\n",
    "y = y.reshape(-1, 1)\n",
    "y = MMS.fit_transform(y)\n",
    "X_train, X_test, y_train, y_test = train_test_split(X, y, test_size=0.3, random_state=0)\n"
   ]
  },
  {
   "cell_type": "code",
   "execution_count": 28,
   "metadata": {},
   "outputs": [
    {
     "name": "stdout",
     "output_type": "stream",
     "text": [
      "Epoch 1/10\n",
      "1119/1119 [==============================] - 0s 110us/step - loss: 0.0336 - mae: 0.1431 - mse: 0.0336\n",
      "Epoch 2/10\n",
      "1119/1119 [==============================] - 0s 33us/step - loss: 0.0204 - mae: 0.1112 - mse: 0.0204\n",
      "Epoch 3/10\n",
      "1119/1119 [==============================] - 0s 33us/step - loss: 0.0195 - mae: 0.1092 - mse: 0.0195\n",
      "Epoch 4/10\n",
      "1119/1119 [==============================] - 0s 31us/step - loss: 0.0185 - mae: 0.1053 - mse: 0.0185\n",
      "Epoch 5/10\n",
      "1119/1119 [==============================] - 0s 30us/step - loss: 0.0180 - mae: 0.1039 - mse: 0.0180\n",
      "Epoch 6/10\n",
      "1119/1119 [==============================] - 0s 32us/step - loss: 0.0181 - mae: 0.1047 - mse: 0.0181\n",
      "Epoch 7/10\n",
      "1119/1119 [==============================] - 0s 30us/step - loss: 0.0177 - mae: 0.1028 - mse: 0.0177\n",
      "Epoch 8/10\n",
      "1119/1119 [==============================] - 0s 29us/step - loss: 0.0172 - mae: 0.1024 - mse: 0.0172\n",
      "Epoch 9/10\n",
      "1119/1119 [==============================] - 0s 28us/step - loss: 0.0172 - mae: 0.1027 - mse: 0.0172\n",
      "Epoch 10/10\n",
      "1119/1119 [==============================] - 0s 28us/step - loss: 0.0172 - mae: 0.1023 - mse: 0.0172\n"
     ]
    }
   ],
   "source": [
    "# Compile the network :\n",
    "# model.compile(loss='mean_absolute_error', optimizer='adam', metrics=['mean_absolute_error'])\n",
    "model.fit(X_train, y_train, epochs = 10)\n",
    "y_train_pred = model.predict(X_train)\n",
    "y_test_pred= model.predict(X_test)"
   ]
  },
  {
   "cell_type": "code",
   "execution_count": null,
   "metadata": {},
   "outputs": [],
   "source": []
  },
  {
   "cell_type": "code",
   "execution_count": 29,
   "metadata": {},
   "outputs": [
    {
     "name": "stdout",
     "output_type": "stream",
     "text": [
      "MSE тренировка: 0.016, тестирование: 0.016\n"
     ]
    }
   ],
   "source": [
    "from sklearn.metrics import mean_squared_error\n",
    "print('MSE тренировка: %.3f, тестирование: %.3f' % (\n",
    "mean_squared_error(y_train, y_train_pred),\n",
    "mean_squared_error(y_test, y_test_pred)))"
   ]
  },
  {
   "cell_type": "code",
   "execution_count": 30,
   "metadata": {},
   "outputs": [
    {
     "name": "stdout",
     "output_type": "stream",
     "text": [
      "R2 тренировка: 0.427, тестирование: 0.308\n"
     ]
    }
   ],
   "source": [
    "from sklearn.metrics import r2_score\n",
    "print('R2 тренировка: %.3f, тестирование: %.3f' %(\n",
    "                        r2_score(y_train, y_train_pred),\n",
    "                        r2_score(y_test, y_test_pred)))\n"
   ]
  },
  {
   "cell_type": "code",
   "execution_count": 31,
   "metadata": {},
   "outputs": [],
   "source": [
    "NN_model = Sequential()"
   ]
  },
  {
   "cell_type": "code",
   "execution_count": 32,
   "metadata": {},
   "outputs": [],
   "source": [
    "# The Input Layer :\n",
    "NN_model.add(Dense(128, kernel_initializer='normal', input_shape=[len(data.keys())-1], activation='relu'))"
   ]
  },
  {
   "cell_type": "code",
   "execution_count": 33,
   "metadata": {},
   "outputs": [],
   "source": [
    "# The Hidden Layers :\n",
    "NN_model.add(Dense(256, kernel_initializer='normal', activation='relu'))\n",
    "NN_model.add(Dense(256, kernel_initializer='normal', activation='relu'))\n",
    "NN_model.add(Dense(256, kernel_initializer='normal', activation='relu'))"
   ]
  },
  {
   "cell_type": "code",
   "execution_count": 34,
   "metadata": {},
   "outputs": [],
   "source": [
    "# The Output Layer :\n",
    "NN_model.add(Dense(1, kernel_initializer='normal', activation='linear'))"
   ]
  },
  {
   "cell_type": "code",
   "execution_count": 35,
   "metadata": {},
   "outputs": [
    {
     "name": "stdout",
     "output_type": "stream",
     "text": [
      "Epoch 1/10\n",
      "1119/1119 [==============================] - 0s 209us/step - loss: 0.2071 - mean_absolute_error: 0.2071\n",
      "Epoch 2/10\n",
      "1119/1119 [==============================] - 0s 68us/step - loss: 0.1119 - mean_absolute_error: 0.1119\n",
      "Epoch 3/10\n",
      "1119/1119 [==============================] - 0s 68us/step - loss: 0.1099 - mean_absolute_error: 0.1099\n",
      "Epoch 4/10\n",
      "1119/1119 [==============================] - 0s 64us/step - loss: 0.1028 - mean_absolute_error: 0.1028\n",
      "Epoch 5/10\n",
      "1119/1119 [==============================] - 0s 64us/step - loss: 0.1003 - mean_absolute_error: 0.1003\n",
      "Epoch 6/10\n",
      "1119/1119 [==============================] - 0s 62us/step - loss: 0.1000 - mean_absolute_error: 0.1000\n",
      "Epoch 7/10\n",
      "1119/1119 [==============================] - 0s 63us/step - loss: 0.0974 - mean_absolute_error: 0.0974\n",
      "Epoch 8/10\n",
      "1119/1119 [==============================] - 0s 62us/step - loss: 0.1002 - mean_absolute_error: 0.1002\n",
      "Epoch 9/10\n",
      "1119/1119 [==============================] - 0s 62us/step - loss: 0.0990 - mean_absolute_error: 0.0990\n",
      "Epoch 10/10\n",
      "1119/1119 [==============================] - 0s 62us/step - loss: 0.1019 - mean_absolute_error: 0.1019\n"
     ]
    }
   ],
   "source": [
    "# Compile the network :\n",
    "NN_model.compile(loss='mean_absolute_error', optimizer='adam', metrics=['mean_absolute_error'])\n",
    "NN_model.fit(X_train, y_train, epochs = 10)\n",
    "y_train_pred = NN_model.predict(X_train)\n",
    "y_test_pred= NN_model.predict(X_test)"
   ]
  },
  {
   "cell_type": "code",
   "execution_count": 36,
   "metadata": {},
   "outputs": [
    {
     "name": "stdout",
     "output_type": "stream",
     "text": [
      "MSE тренировка: 0.016, тестирование: 0.016\n"
     ]
    }
   ],
   "source": [
    "print('MSE тренировка: %.3f, тестирование: %.3f' % (\n",
    "mean_squared_error(y_train, y_train_pred),\n",
    "mean_squared_error(y_test, y_test_pred)))"
   ]
  },
  {
   "cell_type": "code",
   "execution_count": 37,
   "metadata": {},
   "outputs": [
    {
     "name": "stdout",
     "output_type": "stream",
     "text": [
      "R2 тренировка: 0.392, тестирование: 0.342\n"
     ]
    }
   ],
   "source": [
    "print('R2 тренировка: %.3f, тестирование: %.3f' %(\n",
    "                        r2_score(y_train, y_train_pred),\n",
    "                        r2_score(y_test, y_test_pred)))"
   ]
  },
  {
   "cell_type": "code",
   "execution_count": null,
   "metadata": {},
   "outputs": [],
   "source": []
  },
  {
   "cell_type": "code",
   "execution_count": null,
   "metadata": {},
   "outputs": [],
   "source": []
  }
 ],
 "metadata": {
  "kernelspec": {
   "display_name": "Python 3",
   "language": "python",
   "name": "python3"
  },
  "language_info": {
   "codemirror_mode": {
    "name": "ipython",
    "version": 3
   },
   "file_extension": ".py",
   "mimetype": "text/x-python",
   "name": "python",
   "nbconvert_exporter": "python",
   "pygments_lexer": "ipython3",
   "version": "3.7.3"
  }
 },
 "nbformat": 4,
 "nbformat_minor": 2
}
