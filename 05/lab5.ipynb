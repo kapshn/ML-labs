{
 "cells": [
  {
   "cell_type": "code",
   "execution_count": 1,
   "metadata": {},
   "outputs": [
    {
     "name": "stderr",
     "output_type": "stream",
     "text": [
      "Using TensorFlow backend.\n"
     ]
    }
   ],
   "source": [
    "import numpy\n",
    "from keras import models\n",
    "from keras import layers, losses\n",
    "from numpy import loadtxt\n",
    "from keras import optimizers\n",
    "import pandas as pd\n",
    "import numpy as np\n",
    "from sklearn.preprocessing import StandardScaler\n",
    "from keras import regularizers\n",
    "\n",
    "from keras import layers\n",
    "from keras import models\n",
    "\n",
    "from keras import backend as K"
   ]
  },
  {
   "cell_type": "code",
   "execution_count": 2,
   "metadata": {},
   "outputs": [],
   "source": [
    "def recall_m(y_true, y_pred):\n",
    "    true_positives = K.sum(K.round(K.clip(y_true * y_pred, 0, 1)))\n",
    "    possible_positives = K.sum(K.round(K.clip(y_true, 0, 1)))\n",
    "    recall = true_positives / (possible_positives + K.epsilon())\n",
    "    return recall\n",
    "\n",
    "\n",
    "def precision_m(y_true, y_pred):\n",
    "    true_positives = K.sum(K.round(K.clip(y_true * y_pred, 0, 1)))\n",
    "    predicted_positives = K.sum(K.round(K.clip(y_pred, 0, 1)))\n",
    "    precision = true_positives / (predicted_positives + K.epsilon())\n",
    "    return precision"
   ]
  },
  {
   "cell_type": "code",
   "execution_count": 3,
   "metadata": {},
   "outputs": [],
   "source": [
    "model = models.Sequential()\n",
    "model.add(layers.Conv2D(32, (3, 3), activation='relu', input_shape=(150, 150, 3)))\n",
    "model.add(layers.MaxPooling2D((2, 2)))\n",
    "model.add(layers.Conv2D(64, (3, 3), activation='relu'))\n",
    "model.add(layers.MaxPooling2D((2, 2)))\n",
    "model.add(layers.Conv2D(128, (3, 3), activation='relu'))\n",
    "model.add(layers.MaxPooling2D((2, 2)))\n",
    "model.add(layers.Conv2D(128, (3, 3), activation='relu'))\n",
    "model.add(layers.MaxPooling2D((2, 2)))\n",
    "model.add(layers.Flatten())\n",
    "model.add(layers.Dropout(0.5))\n",
    "model.add(layers.Dense(512, activation='relu'))\n",
    "model.add(layers.Dense(1, activation='sigmoid'))"
   ]
  },
  {
   "cell_type": "code",
   "execution_count": 4,
   "metadata": {},
   "outputs": [],
   "source": [
    "metrics = ['accuracy', precision_m, recall_m]\n",
    "\n",
    "model.compile(loss='binary_crossentropy',\n",
    "            optimizer=optimizers.RMSprop(lr=1e-4),\n",
    "            metrics= metrics)"
   ]
  },
  {
   "cell_type": "code",
   "execution_count": 5,
   "metadata": {},
   "outputs": [
    {
     "name": "stdout",
     "output_type": "stream",
     "text": [
      "Found 60 images belonging to 2 classes.\n",
      "Found 20 images belonging to 2 classes.\n",
      "Found 20 images belonging to 2 classes.\n",
      "Epoch 1/10\n",
      " 2/10 [=====>........................] - ETA: 3s - loss: 0.6888 - accuracy: 0.5357 - precision_m: 0.5182 - recall_m: 0.5556"
     ]
    },
    {
     "name": "stderr",
     "output_type": "stream",
     "text": [
      "/Users/MondayMeoW/anaconda3/lib/python3.7/site-packages/PIL/TiffImagePlugin.py:804: UserWarning: Corrupt EXIF data.  Expecting to read 2 bytes but only got 0. \n",
      "  warnings.warn(str(msg))\n",
      "/Users/MondayMeoW/anaconda3/lib/python3.7/site-packages/PIL/Image.py:993: UserWarning: Palette images with Transparency expressed in bytes should be converted to RGBA images\n",
      "  \"Palette images with Transparency expressed in bytes should be \"\n"
     ]
    },
    {
     "name": "stdout",
     "output_type": "stream",
     "text": [
      "10/10 [==============================] - 4s 416ms/step - loss: 0.6884 - accuracy: 0.5608 - precision_m: 0.5228 - recall_m: 0.6385 - val_loss: 0.6803 - val_accuracy: 0.6500 - val_precision_m: 0.5625 - val_recall_m: 0.9410\n",
      "Epoch 2/10\n",
      "10/10 [==============================] - 4s 357ms/step - loss: 0.6847 - accuracy: 0.5329 - precision_m: 0.5605 - recall_m: 0.6063 - val_loss: 0.5344 - val_accuracy: 0.5000 - val_precision_m: 0.5469 - val_recall_m: 1.0000\n",
      "Epoch 3/10\n",
      "10/10 [==============================] - 3s 346ms/step - loss: 0.6577 - accuracy: 0.6216 - precision_m: 0.6630 - recall_m: 0.8163 - val_loss: 0.5636 - val_accuracy: 0.7500 - val_precision_m: 0.9000 - val_recall_m: 0.6190\n",
      "Epoch 4/10\n",
      "10/10 [==============================] - 4s 377ms/step - loss: 0.5875 - accuracy: 0.6908 - precision_m: 0.6579 - recall_m: 0.6169 - val_loss: 0.9318 - val_accuracy: 0.5000 - val_precision_m: 0.5000 - val_recall_m: 1.0000\n",
      "Epoch 5/10\n",
      "10/10 [==============================] - 4s 367ms/step - loss: 0.6393 - accuracy: 0.6250 - precision_m: 0.7161 - recall_m: 0.6948 - val_loss: 0.5800 - val_accuracy: 0.8000 - val_precision_m: 0.8333 - val_recall_m: 0.8125\n",
      "Epoch 6/10\n",
      "10/10 [==============================] - 4s 388ms/step - loss: 0.5748 - accuracy: 0.6689 - precision_m: 0.7201 - recall_m: 0.6954 - val_loss: 0.5811 - val_accuracy: 0.7000 - val_precision_m: 0.6583 - val_recall_m: 0.3750\n",
      "Epoch 7/10\n",
      "10/10 [==============================] - 4s 377ms/step - loss: 0.5748 - accuracy: 0.6711 - precision_m: 0.7504 - recall_m: 0.6298 - val_loss: 0.8197 - val_accuracy: 0.7500 - val_precision_m: 0.4991 - val_recall_m: 0.7500\n",
      "Epoch 8/10\n",
      "10/10 [==============================] - 4s 376ms/step - loss: 0.5372 - accuracy: 0.7635 - precision_m: 0.7687 - recall_m: 0.8149 - val_loss: 0.4285 - val_accuracy: 0.7500 - val_precision_m: 0.7361 - val_recall_m: 0.7247\n",
      "Epoch 9/10\n",
      "10/10 [==============================] - 4s 376ms/step - loss: 0.5151 - accuracy: 0.7697 - precision_m: 0.7833 - recall_m: 0.7829 - val_loss: 0.2848 - val_accuracy: 0.6000 - val_precision_m: 0.7417 - val_recall_m: 1.0000\n",
      "Epoch 10/10\n",
      "10/10 [==============================] - 4s 398ms/step - loss: 0.5208 - accuracy: 0.6959 - precision_m: 0.7169 - recall_m: 0.7029 - val_loss: 0.2788 - val_accuracy: 0.7500 - val_precision_m: 0.6726 - val_recall_m: 0.5389\n"
     ]
    }
   ],
   "source": [
    "from keras.preprocessing.image import ImageDataGenerator\n",
    "\n",
    "train_datagen = ImageDataGenerator(rescale=1./255,\n",
    "                                    rotation_range=40,\n",
    "                                    width_shift_range=0.2,\n",
    "                                    height_shift_range=0.2,\n",
    "                                    shear_range=0.2,\n",
    "                                    zoom_range=0.2,\n",
    "                                    horizontal_flip=True,)\n",
    "test_datagen = ImageDataGenerator(rescale=1./255)\n",
    "train_generator = train_datagen.flow_from_directory(r'../05/train',\n",
    "                                                     target_size=(150, 150),# this is resize\n",
    "                                                     batch_size=16,\n",
    "                                                     class_mode='binary')\n",
    "validation_generator = test_datagen.flow_from_directory(r'../05/validation',\n",
    "                                                         target_size=(150, 150),\n",
    "                                                         batch_size=16,\n",
    "                                                         class_mode='binary')\n",
    "test_generator = test_datagen.flow_from_directory(r'../05/test',\n",
    "                                                  target_size=(150, 150),\n",
    "                                                  batch_size=16,\n",
    "                                                  class_mode='binary')\n",
    "history = model.fit_generator(train_generator,\n",
    "                              steps_per_epoch=10,\n",
    "                              epochs=10,\n",
    "                              validation_data = validation_generator,\n",
    "                              validation_steps = 4,\n",
    "                              )"
   ]
  },
  {
   "cell_type": "code",
   "execution_count": 6,
   "metadata": {},
   "outputs": [
    {
     "name": "stdout",
     "output_type": "stream",
     "text": [
      "\n",
      "----------------------------------------------MODEL 3----------------------------------------------\n",
      "\n",
      "\n",
      "train results:\n",
      "\n",
      "loss=0.82, accuracy=0.75, precision=0.90, recall=0.61\n",
      "\n",
      "test results:\n",
      "\n",
      "loss=0.55, accuracy=0.90, precision=0.94, recall=0.75\n"
     ]
    }
   ],
   "source": [
    "print('\\n----------------------------------------------MODEL 1----------------------------------------------\\n')\n",
    "print('\\ntrain results:\\n')\n",
    "loss, accuracy, precision, recall = model.evaluate_generator(train_generator, verbose=0, steps = len(train_generator))\n",
    "print(\"loss={:.2f}, accuracy={:.2f}, precision={:.2f}, recall={:.2f}\".format(loss, accuracy, precision, recall))\n",
    "print('\\ntest results:\\n')\n",
    "loss, accuracy, precision, recall = model.evaluate_generator(test_generator, verbose=0, steps = len(test_generator))\n",
    "print(\"loss={:.2f}, accuracy={:.2f}, precision={:.2f}, recall={:.2f}\".format(loss, accuracy, precision, recall))\n"
   ]
  },
  {
   "cell_type": "code",
   "execution_count": 7,
   "metadata": {},
   "outputs": [
    {
     "name": "stdout",
     "output_type": "stream",
     "text": [
      "Epoch 1/10\n"
     ]
    },
    {
     "name": "stderr",
     "output_type": "stream",
     "text": [
      "/Users/MondayMeoW/anaconda3/lib/python3.7/site-packages/PIL/TiffImagePlugin.py:804: UserWarning: Corrupt EXIF data.  Expecting to read 2 bytes but only got 0. \n",
      "  warnings.warn(str(msg))\n"
     ]
    },
    {
     "name": "stdout",
     "output_type": "stream",
     "text": [
      "\r",
      " 1/10 [==>...........................] - ETA: 9s - loss: 0.6891 - accuracy: 0.6250 - precision_m: 0.6364 - recall_m: 0.7778"
     ]
    },
    {
     "name": "stderr",
     "output_type": "stream",
     "text": [
      "/Users/MondayMeoW/anaconda3/lib/python3.7/site-packages/PIL/Image.py:993: UserWarning: Palette images with Transparency expressed in bytes should be converted to RGBA images\n",
      "  \"Palette images with Transparency expressed in bytes should be \"\n"
     ]
    },
    {
     "name": "stdout",
     "output_type": "stream",
     "text": [
      "10/10 [==============================] - 6s 621ms/step - loss: 0.7017 - accuracy: 0.5000 - precision_m: 0.4210 - recall_m: 0.6806 - val_loss: 0.6802 - val_accuracy: 0.7000 - val_precision_m: 0.6875 - val_recall_m: 0.3988\n",
      "Epoch 2/10\n",
      "10/10 [==============================] - 6s 602ms/step - loss: 0.6839 - accuracy: 0.5132 - precision_m: 0.6750 - recall_m: 0.7431 - val_loss: 0.7093 - val_accuracy: 0.7500 - val_precision_m: 0.3818 - val_recall_m: 0.4444\n",
      "Epoch 3/10\n",
      "10/10 [==============================] - 6s 572ms/step - loss: 0.6514 - accuracy: 0.6486 - precision_m: 0.6660 - recall_m: 0.8071 - val_loss: 0.5608 - val_accuracy: 0.6500 - val_precision_m: 0.6929 - val_recall_m: 1.0000\n",
      "Epoch 4/10\n",
      "10/10 [==============================] - 6s 649ms/step - loss: 0.6220 - accuracy: 0.6579 - precision_m: 0.7114 - recall_m: 0.6390 - val_loss: 1.0648 - val_accuracy: 0.5000 - val_precision_m: 0.4531 - val_recall_m: 0.7500\n",
      "Epoch 5/10\n",
      "10/10 [==============================] - 8s 837ms/step - loss: 0.5875 - accuracy: 0.6842 - precision_m: 0.6872 - recall_m: 0.6501 - val_loss: 0.4869 - val_accuracy: 0.7500 - val_precision_m: 0.7583 - val_recall_m: 0.8889\n",
      "Epoch 6/10\n",
      "10/10 [==============================] - 8s 800ms/step - loss: 0.5980 - accuracy: 0.6959 - precision_m: 0.7547 - recall_m: 0.7689 - val_loss: 0.3127 - val_accuracy: 0.7500 - val_precision_m: 0.8312 - val_recall_m: 0.8730\n",
      "Epoch 7/10\n",
      "10/10 [==============================] - 6s 634ms/step - loss: 0.5668 - accuracy: 0.7171 - precision_m: 0.7450 - recall_m: 0.6659 - val_loss: 0.7447 - val_accuracy: 0.7000 - val_precision_m: 0.6161 - val_recall_m: 0.5764\n",
      "Epoch 8/10\n",
      "10/10 [==============================] - 6s 612ms/step - loss: 0.5544 - accuracy: 0.7027 - precision_m: 0.7721 - recall_m: 0.6958 - val_loss: 0.4073 - val_accuracy: 0.8000 - val_precision_m: 0.7861 - val_recall_m: 0.8854\n",
      "Epoch 9/10\n",
      "10/10 [==============================] - 6s 575ms/step - loss: 0.5653 - accuracy: 0.7297 - precision_m: 0.7975 - recall_m: 0.7063 - val_loss: 0.4775 - val_accuracy: 0.7500 - val_precision_m: 0.8229 - val_recall_m: 0.8095\n",
      "Epoch 10/10\n",
      "10/10 [==============================] - 6s 607ms/step - loss: 0.5092 - accuracy: 0.7237 - precision_m: 0.7487 - recall_m: 0.7423 - val_loss: 0.7769 - val_accuracy: 0.7500 - val_precision_m: 0.7083 - val_recall_m: 0.8730\n"
     ]
    }
   ],
   "source": [
    "model2 = models.Sequential()\n",
    "model2.add(layers.Conv2D(64, (3, 3), activation='relu', input_shape=(150, 150, 3)))\n",
    "model2.add(layers.MaxPooling2D((2, 2)))\n",
    "model2.add(layers.Conv2D(128, (3, 3), activation='relu'))\n",
    "model2.add(layers.MaxPooling2D((2, 2)))\n",
    "model2.add(layers.Conv2D(64, (3, 3), activation='relu'))\n",
    "model2.add(layers.MaxPooling2D((2, 2)))\n",
    "model2.add(layers.Conv2D(64, (3, 3), activation='relu'))\n",
    "model2.add(layers.MaxPooling2D((2, 2)))\n",
    "model2.add(layers.Flatten())\n",
    "model2.add(layers.Dense(512, activation='relu'))\n",
    "model2.add(layers.Dense(32, activation='relu'))\n",
    "model2.add(layers.Dense(1, activation='sigmoid'))\n",
    "model2.compile(loss='binary_crossentropy',\n",
    "                optimizer=optimizers.RMSprop(lr=1e-4),\n",
    "                metrics= metrics)\n",
    "history = model2.fit_generator(train_generator,\n",
    "                              steps_per_epoch=10,\n",
    "                              epochs=10,\n",
    "                              validation_data = validation_generator,\n",
    "                              validation_steps = 4,\n",
    "                              )"
   ]
  },
  {
   "cell_type": "code",
   "execution_count": 8,
   "metadata": {},
   "outputs": [
    {
     "name": "stdout",
     "output_type": "stream",
     "text": [
      "\n",
      "----------------------------------------------MODEL 2----------------------------------------------\n",
      "\n",
      "\n",
      "train results:\n",
      "\n",
      "loss=0.40, accuracy=0.75, precision=0.78, recall=0.71\n",
      "\n",
      "test results:\n",
      "\n",
      "loss=0.36, accuracy=0.90, precision=0.90, recall=1.00\n"
     ]
    }
   ],
   "source": [
    "print('\\n----------------------------------------------MODEL 2----------------------------------------------\\n')\n",
    "print('\\ntrain results:\\n')\n",
    "loss, accuracy, precision, recall = model2.evaluate_generator(train_generator, verbose=0, steps = len(train_generator))\n",
    "print(\"loss={:.2f}, accuracy={:.2f}, precision={:.2f}, recall={:.2f}\".format(loss, accuracy, precision, recall))\n",
    "print('\\ntest results:\\n')\n",
    "loss, accuracy, precision, recall = model2.evaluate_generator(test_generator, verbose=0, steps = len(test_generator))\n",
    "print(\"loss={:.2f}, accuracy={:.2f}, precision={:.2f}, recall={:.2f}\".format(loss, accuracy, precision, recall))"
   ]
  },
  {
   "cell_type": "code",
   "execution_count": 9,
   "metadata": {
    "scrolled": false
   },
   "outputs": [
    {
     "name": "stdout",
     "output_type": "stream",
     "text": [
      "Epoch 1/10\n"
     ]
    },
    {
     "name": "stderr",
     "output_type": "stream",
     "text": [
      "/Users/MondayMeoW/anaconda3/lib/python3.7/site-packages/PIL/Image.py:993: UserWarning: Palette images with Transparency expressed in bytes should be converted to RGBA images\n",
      "  \"Palette images with Transparency expressed in bytes should be \"\n"
     ]
    },
    {
     "name": "stdout",
     "output_type": "stream",
     "text": [
      " 2/10 [=====>........................] - ETA: 4s - loss: 1.8211 - accuracy: 0.3571 - precision_m: 0.4583 - recall_m: 0.5455"
     ]
    },
    {
     "name": "stderr",
     "output_type": "stream",
     "text": [
      "/Users/MondayMeoW/anaconda3/lib/python3.7/site-packages/PIL/TiffImagePlugin.py:804: UserWarning: Corrupt EXIF data.  Expecting to read 2 bytes but only got 0. \n",
      "  warnings.warn(str(msg))\n"
     ]
    },
    {
     "name": "stdout",
     "output_type": "stream",
     "text": [
      "10/10 [==============================] - 5s 461ms/step - loss: 1.6643 - accuracy: 0.5000 - precision_m: 0.3542 - recall_m: 0.4313 - val_loss: 1.6171 - val_accuracy: 0.5000 - val_precision_m: 0.5000 - val_recall_m: 1.0000\n",
      "Epoch 2/10\n",
      "10/10 [==============================] - 4s 440ms/step - loss: 1.4907 - accuracy: 0.6014 - precision_m: 0.5896 - recall_m: 0.5333 - val_loss: 1.6027 - val_accuracy: 0.6500 - val_precision_m: 0.5144 - val_recall_m: 1.0000\n",
      "Epoch 3/10\n",
      "10/10 [==============================] - 4s 408ms/step - loss: 1.4328 - accuracy: 0.6014 - precision_m: 0.6669 - recall_m: 0.7224 - val_loss: 1.1899 - val_accuracy: 0.7500 - val_precision_m: 0.8125 - val_recall_m: 0.6190\n",
      "Epoch 4/10\n",
      "10/10 [==============================] - 4s 416ms/step - loss: 1.3397 - accuracy: 0.6382 - precision_m: 0.6997 - recall_m: 0.6841 - val_loss: 1.0888 - val_accuracy: 0.7500 - val_precision_m: 0.7504 - val_recall_m: 1.0000\n",
      "Epoch 5/10\n",
      "10/10 [==============================] - 4s 400ms/step - loss: 1.2776 - accuracy: 0.6149 - precision_m: 0.6865 - recall_m: 0.7116 - val_loss: 1.1170 - val_accuracy: 0.7000 - val_precision_m: 0.6000 - val_recall_m: 0.7882\n",
      "Epoch 6/10\n",
      "10/10 [==============================] - 4s 418ms/step - loss: 1.1846 - accuracy: 0.6842 - precision_m: 0.6846 - recall_m: 0.6903 - val_loss: 0.7872 - val_accuracy: 0.8000 - val_precision_m: 0.7500 - val_recall_m: 0.4313\n",
      "Epoch 7/10\n",
      "10/10 [==============================] - 4s 411ms/step - loss: 1.1874 - accuracy: 0.6184 - precision_m: 0.6550 - recall_m: 0.6041 - val_loss: 1.0483 - val_accuracy: 0.8000 - val_precision_m: 0.7716 - val_recall_m: 1.0000\n",
      "Epoch 8/10\n",
      "10/10 [==============================] - 4s 418ms/step - loss: 1.0733 - accuracy: 0.7230 - precision_m: 0.7423 - recall_m: 0.7191 - val_loss: 1.1937 - val_accuracy: 0.7500 - val_precision_m: 0.5893 - val_recall_m: 0.5764\n",
      "Epoch 9/10\n",
      "10/10 [==============================] - 4s 413ms/step - loss: 0.9946 - accuracy: 0.7838 - precision_m: 0.8360 - recall_m: 0.7362 - val_loss: 0.8617 - val_accuracy: 0.6500 - val_precision_m: 0.7054 - val_recall_m: 1.0000\n",
      "Epoch 10/10\n",
      "10/10 [==============================] - 4s 413ms/step - loss: 1.0310 - accuracy: 0.6908 - precision_m: 0.7414 - recall_m: 0.7779 - val_loss: 1.0120 - val_accuracy: 0.7500 - val_precision_m: 0.9083 - val_recall_m: 0.5908\n"
     ]
    }
   ],
   "source": [
    "model3 = models.Sequential()\n",
    "model3.add(layers.Conv2D(32, (3, 3), activation='relu', input_shape=(150, 150, 3)))\n",
    "model3.add(layers.MaxPooling2D((2, 2)))\n",
    "model3.add(layers.Conv2D(64, (3, 3), activation='relu'))\n",
    "model3.add(layers.MaxPooling2D((2, 2)))\n",
    "model3.add(layers.Conv2D(64, (3, 3), activation='relu'))\n",
    "model3.add(layers.MaxPooling2D((2, 2)))\n",
    "model3.add(layers.Flatten())\n",
    "model3.add(layers.Dropout(0.4))\n",
    "model3.add(layers.Dense(512, kernel_regularizer=regularizers.l2(0.001), activation='relu'))\n",
    "model3.add(layers.Dense(32, activation='relu'))\n",
    "model3.add(layers.Dense(1, activation='sigmoid'))\n",
    "model3.compile(loss='binary_crossentropy',\n",
    "                optimizer=optimizers.RMSprop(lr=1e-4),\n",
    "                metrics= metrics)\n",
    "history = model3.fit_generator(train_generator,\n",
    "                              steps_per_epoch=10,\n",
    "                              epochs=10,\n",
    "                              validation_data = validation_generator,\n",
    "                              validation_steps = 4,\n",
    "                              )"
   ]
  },
  {
   "cell_type": "code",
   "execution_count": 10,
   "metadata": {},
   "outputs": [
    {
     "name": "stdout",
     "output_type": "stream",
     "text": [
      "\n",
      "----------------------------------------------MODEL 1----------------------------------------------\n",
      "\n",
      "\n",
      "train results:\n",
      "\n",
      "loss=1.05, accuracy=0.68, precision=0.83, recall=0.45\n",
      "\n",
      "test results:\n",
      "\n",
      "loss=1.10, accuracy=0.90, precision=1.00, recall=0.69\n"
     ]
    }
   ],
   "source": [
    "print('\\n----------------------------------------------MODEL 3----------------------------------------------\\n')\n",
    "print('\\ntrain results:\\n')\n",
    "loss, accuracy, precision, recall = model3.evaluate_generator(train_generator, verbose=0, steps = len(train_generator))\n",
    "print(\"loss={:.2f}, accuracy={:.2f}, precision={:.2f}, recall={:.2f}\".format(loss, accuracy, precision, recall))\n",
    "print('\\ntest results:\\n')\n",
    "loss, accuracy, precision, recall = model3.evaluate_generator(test_generator, verbose=0, steps = len(test_generator))\n",
    "print(\"loss={:.2f}, accuracy={:.2f}, precision={:.2f}, recall={:.2f}\".format(loss, accuracy, precision, recall))"
   ]
  },
  {
   "cell_type": "code",
   "execution_count": null,
   "metadata": {},
   "outputs": [],
   "source": []
  }
 ],
 "metadata": {
  "kernelspec": {
   "display_name": "Python 3",
   "language": "python",
   "name": "python3"
  },
  "language_info": {
   "codemirror_mode": {
    "name": "ipython",
    "version": 3
   },
   "file_extension": ".py",
   "mimetype": "text/x-python",
   "name": "python",
   "nbconvert_exporter": "python",
   "pygments_lexer": "ipython3",
   "version": "3.7.3"
  }
 },
 "nbformat": 4,
 "nbformat_minor": 2
}
