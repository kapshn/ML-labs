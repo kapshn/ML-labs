{
 "cells": [
  {
   "cell_type": "markdown",
   "metadata": {},
   "source": [
    "# Лабораторная работа 3"
   ]
  },
  {
   "cell_type": "markdown",
   "metadata": {},
   "source": [
    "## Описание модели\n",
    "\n",
    "Данные содержат 830 записей и 6 атрибутов. Датасет содержит информацию для скрининга рака молочной железы."
   ]
  },
  {
   "cell_type": "markdown",
   "metadata": {},
   "source": [
    "### Attributes \n",
    "\n",
    "- BI-RADS assessment: 1 to 5 \n",
    "- Age: patient's age in years \n",
    "- Shape: mass shape: round=1 oval=2 lobular=3 irregular=4 \n",
    "- Margin: mass margin: circumscribed=1 microlobulated=2 obscured=3 ill-defined=4 spiculated=5 \n",
    "- Density: mass density high=1 iso=2 low=3 fat-containing=4 \n",
    "- Severity: benign=0 or malignant=1 "
   ]
  },
  {
   "cell_type": "code",
   "execution_count": 1,
   "metadata": {},
   "outputs": [],
   "source": [
    "import pandas as pd\n",
    "import numpy as np\n",
    "import matplotlib.pyplot as plt"
   ]
  },
  {
   "cell_type": "code",
   "execution_count": 2,
   "metadata": {},
   "outputs": [],
   "source": [
    "data = pd.read_csv(\"cleaned_data.csv\")"
   ]
  },
  {
   "cell_type": "code",
   "execution_count": 3,
   "metadata": {},
   "outputs": [
    {
     "data": {
      "text/html": [
       "<div>\n",
       "<style scoped>\n",
       "    .dataframe tbody tr th:only-of-type {\n",
       "        vertical-align: middle;\n",
       "    }\n",
       "\n",
       "    .dataframe tbody tr th {\n",
       "        vertical-align: top;\n",
       "    }\n",
       "\n",
       "    .dataframe thead th {\n",
       "        text-align: right;\n",
       "    }\n",
       "</style>\n",
       "<table border=\"1\" class=\"dataframe\">\n",
       "  <thead>\n",
       "    <tr style=\"text-align: right;\">\n",
       "      <th></th>\n",
       "      <th>BI-RADS</th>\n",
       "      <th>Age</th>\n",
       "      <th>Shape</th>\n",
       "      <th>Margin</th>\n",
       "      <th>Density</th>\n",
       "      <th>Severity</th>\n",
       "    </tr>\n",
       "  </thead>\n",
       "  <tbody>\n",
       "    <tr>\n",
       "      <th>0</th>\n",
       "      <td>5</td>\n",
       "      <td>67</td>\n",
       "      <td>3</td>\n",
       "      <td>5</td>\n",
       "      <td>3</td>\n",
       "      <td>1</td>\n",
       "    </tr>\n",
       "    <tr>\n",
       "      <th>1</th>\n",
       "      <td>5</td>\n",
       "      <td>58</td>\n",
       "      <td>4</td>\n",
       "      <td>5</td>\n",
       "      <td>3</td>\n",
       "      <td>1</td>\n",
       "    </tr>\n",
       "    <tr>\n",
       "      <th>2</th>\n",
       "      <td>4</td>\n",
       "      <td>28</td>\n",
       "      <td>1</td>\n",
       "      <td>1</td>\n",
       "      <td>3</td>\n",
       "      <td>0</td>\n",
       "    </tr>\n",
       "    <tr>\n",
       "      <th>3</th>\n",
       "      <td>5</td>\n",
       "      <td>57</td>\n",
       "      <td>1</td>\n",
       "      <td>5</td>\n",
       "      <td>3</td>\n",
       "      <td>1</td>\n",
       "    </tr>\n",
       "    <tr>\n",
       "      <th>4</th>\n",
       "      <td>5</td>\n",
       "      <td>76</td>\n",
       "      <td>1</td>\n",
       "      <td>4</td>\n",
       "      <td>3</td>\n",
       "      <td>1</td>\n",
       "    </tr>\n",
       "  </tbody>\n",
       "</table>\n",
       "</div>"
      ],
      "text/plain": [
       "   BI-RADS  Age  Shape  Margin  Density  Severity\n",
       "0        5   67      3       5        3         1\n",
       "1        5   58      4       5        3         1\n",
       "2        4   28      1       1        3         0\n",
       "3        5   57      1       5        3         1\n",
       "4        5   76      1       4        3         1"
      ]
     },
     "execution_count": 3,
     "metadata": {},
     "output_type": "execute_result"
    }
   ],
   "source": [
    "data.head()"
   ]
  },
  {
   "cell_type": "code",
   "execution_count": 4,
   "metadata": {},
   "outputs": [
    {
     "data": {
      "text/html": [
       "<div>\n",
       "<style scoped>\n",
       "    .dataframe tbody tr th:only-of-type {\n",
       "        vertical-align: middle;\n",
       "    }\n",
       "\n",
       "    .dataframe tbody tr th {\n",
       "        vertical-align: top;\n",
       "    }\n",
       "\n",
       "    .dataframe thead th {\n",
       "        text-align: right;\n",
       "    }\n",
       "</style>\n",
       "<table border=\"1\" class=\"dataframe\">\n",
       "  <thead>\n",
       "    <tr style=\"text-align: right;\">\n",
       "      <th></th>\n",
       "      <th>Пропуски</th>\n",
       "      <th>Мин.</th>\n",
       "      <th>Макс.</th>\n",
       "      <th>Средн.</th>\n",
       "      <th>Ст. откл.</th>\n",
       "    </tr>\n",
       "  </thead>\n",
       "  <tbody>\n",
       "    <tr>\n",
       "      <th>BI-RADS</th>\n",
       "      <td>0</td>\n",
       "      <td>0</td>\n",
       "      <td>55</td>\n",
       "      <td>4.393976</td>\n",
       "      <td>1.888371</td>\n",
       "    </tr>\n",
       "    <tr>\n",
       "      <th>Age</th>\n",
       "      <td>0</td>\n",
       "      <td>18</td>\n",
       "      <td>96</td>\n",
       "      <td>55.781928</td>\n",
       "      <td>14.671782</td>\n",
       "    </tr>\n",
       "    <tr>\n",
       "      <th>Shape</th>\n",
       "      <td>0</td>\n",
       "      <td>1</td>\n",
       "      <td>4</td>\n",
       "      <td>2.781928</td>\n",
       "      <td>1.242361</td>\n",
       "    </tr>\n",
       "    <tr>\n",
       "      <th>Margin</th>\n",
       "      <td>0</td>\n",
       "      <td>1</td>\n",
       "      <td>5</td>\n",
       "      <td>2.813253</td>\n",
       "      <td>1.567175</td>\n",
       "    </tr>\n",
       "    <tr>\n",
       "      <th>Density</th>\n",
       "      <td>0</td>\n",
       "      <td>1</td>\n",
       "      <td>4</td>\n",
       "      <td>2.915663</td>\n",
       "      <td>0.350936</td>\n",
       "    </tr>\n",
       "    <tr>\n",
       "      <th>Severity</th>\n",
       "      <td>0</td>\n",
       "      <td>0</td>\n",
       "      <td>1</td>\n",
       "      <td>0.485542</td>\n",
       "      <td>0.500092</td>\n",
       "    </tr>\n",
       "  </tbody>\n",
       "</table>\n",
       "</div>"
      ],
      "text/plain": [
       "          Пропуски  Мин.  Макс.     Средн.  Ст. откл.\n",
       "BI-RADS          0     0     55   4.393976   1.888371\n",
       "Age              0    18     96  55.781928  14.671782\n",
       "Shape            0     1      4   2.781928   1.242361\n",
       "Margin           0     1      5   2.813253   1.567175\n",
       "Density          0     1      4   2.915663   0.350936\n",
       "Severity         0     0      1   0.485542   0.500092"
      ]
     },
     "execution_count": 4,
     "metadata": {},
     "output_type": "execute_result"
    }
   ],
   "source": [
    "min_ = data.min()\n",
    "max_ = data.max()\n",
    "mean_ = data.mean()\n",
    "std_ = data.std()\n",
    "nulls = data.isnull().sum()\n",
    "stats = pd.DataFrame({'Пропуски': nulls, 'Мин.': min_, 'Макс.': max_, 'Средн.': mean_, 'Ст. откл.': std_})\n",
    "stats"
   ]
  },
  {
   "cell_type": "code",
   "execution_count": 5,
   "metadata": {},
   "outputs": [],
   "source": [
    "#Разбиение данных на тренировочные и тестовые\n",
    "from sklearn.model_selection import train_test_split\n",
    "\n",
    "x, y = data.iloc[:, 0:5].values, data.iloc[:, 5].values\n",
    "X_train, X_test, y_train, y_test = \\\n",
    "        train_test_split(x, y, test_size=0.3, random_state=0)"
   ]
  },
  {
   "cell_type": "code",
   "execution_count": 6,
   "metadata": {},
   "outputs": [],
   "source": [
    "from sklearn.preprocessing import StandardScaler\n",
    "stdsc = StandardScaler()\n",
    "X_train_std = stdsc.fit_transform(X_train)\n",
    "X_test_std = stdsc.transform(X_test)"
   ]
  },
  {
   "cell_type": "code",
   "execution_count": 7,
   "metadata": {},
   "outputs": [
    {
     "name": "stdout",
     "output_type": "stream",
     "text": [
      "Чиcлo ошибочно классифицированных образцов : 63 \n",
      "[[108  23]\n",
      " [ 40  78]]\n",
      "Точность доброкачественная: 0.730\n",
      "Точность злокачественная: 0.772\n",
      "Полнота доброкачественная: 0.824\n",
      "Полнота злокачественная: 0.661\n",
      "Верность: 0.747\n"
     ]
    }
   ],
   "source": [
    "from sklearn.linear_model import Perceptron\n",
    "ppn = Perceptron(eta0=0.1, random_state=0,max_iter=40)\n",
    "ppn.fit(X_train_std, y_train) \n",
    "y_pred = ppn.predict(X_test_std) \n",
    "print('Чиcлo ошибочно классифицированных образцов : %d ' % (y_test != y_pred).sum())\n",
    "\n",
    "from sklearn.metrics import confusion_matrix\n",
    "confmat = confusion_matrix(y_true=y_test, y_pred=y_pred)\n",
    "print(confmat)\n",
    "\n",
    "from sklearn.metrics import precision_score\n",
    "from sklearn.metrics import recall_score\n",
    "from sklearn.metrics import accuracy_score\n",
    "print('Точность доброкачественная: %.3f' % precision_score(y_true=y_test, y_pred=y_pred, pos_label=0)) \n",
    "print('Точность злокачественная: %.3f' % precision_score(y_true=y_test, y_pred=y_pred, pos_label=1))\n",
    "print('Полнота доброкачественная: %.3f' % recall_score(y_true=y_test, y_pred=y_pred, pos_label=0)) \n",
    "print('Полнота злокачественная: %.3f' % recall_score(y_true=y_test, y_pred=y_pred, pos_label=1)) \n",
    "print('Верность: %.3f' % accuracy_score(y_true=y_test, y_pred=y_pred))"
   ]
  },
  {
   "cell_type": "code",
   "execution_count": 8,
   "metadata": {},
   "outputs": [
    {
     "name": "stdout",
     "output_type": "stream",
     "text": [
      "Чиcлo ошибочно классифицированных образцов : 42 \n",
      "[[108  23]\n",
      " [ 19  99]]\n",
      "Точность доброкачественная: 0.850\n",
      "Точность злокачественная: 0.811\n",
      "Полнота доброкачественная: 0.824\n",
      "Полнота злокачественная: 0.839\n",
      "Верность: 0.831\n"
     ]
    }
   ],
   "source": [
    "from sklearn.tree import DecisionTreeClassifier\n",
    "import mlxtend\n",
    "from mlxtend.plotting import plot_decision_regions\n",
    "tree = DecisionTreeClassifier (criterion='entropy', max_depth=3, random_state=0)\n",
    "tree.fit(X_train_std, y_train)\n",
    "y_pred = tree.predict(X_test_std)\n",
    "print('Чиcлo ошибочно классифицированных образцов : %d ' % (y_test != y_pred).sum())\n",
    "from sklearn.metrics import confusion_matrix\n",
    "confmat = confusion_matrix(y_true=y_test, y_pred=y_pred)\n",
    "print(confmat)\n",
    "print('Точность доброкачественная: %.3f' % precision_score(y_true=y_test, y_pred=y_pred, pos_label=0)) \n",
    "print('Точность злокачественная: %.3f' % precision_score(y_true=y_test, y_pred=y_pred, pos_label=1))\n",
    "print('Полнота доброкачественная: %.3f' % recall_score(y_true=y_test, y_pred=y_pred, pos_label=0)) \n",
    "print('Полнота злокачественная: %.3f' % recall_score(y_true=y_test, y_pred=y_pred, pos_label=1)) \n",
    "print('Верность: %.3f' % accuracy_score(y_true=y_test, y_pred=y_pred))"
   ]
  },
  {
   "cell_type": "code",
   "execution_count": 24,
   "metadata": {},
   "outputs": [
    {
     "name": "stdout",
     "output_type": "stream",
     "text": [
      "Чиcлo ошибочно классифицированных образцов : 52 \n",
      "[[105  26]\n",
      " [ 26  92]]\n",
      "Точность доброкачественная: 0.802\n",
      "Точность злокачественная: 0.780\n",
      "Полнота доброкачественная: 0.802\n",
      "Полнота злокачественная: 0.780\n",
      "Верность: 0.791\n"
     ]
    }
   ],
   "source": [
    "from sklearn.neighbors import KNeighborsClassifier\n",
    "knn = KNeighborsClassifier(n_neighbors=6, p=2, metric='minkowski')\n",
    "knn.fit(X_train_std, y_train)\n",
    "y_pred = knn.predict(X_test_std)\n",
    "print('Чиcлo ошибочно классифицированных образцов : %d ' % (y_test != y_pred).sum())\n",
    "from sklearn.metrics import confusion_matrix\n",
    "confmat = confusion_matrix(y_true=y_test, y_pred=y_pred)\n",
    "print(confmat)\n",
    "print('Точность доброкачественная: %.3f' % precision_score(y_true=y_test, y_pred=y_pred, pos_label=0)) \n",
    "print('Точность злокачественная: %.3f' % precision_score(y_true=y_test, y_pred=y_pred, pos_label=1))\n",
    "print('Полнота доброкачественная: %.3f' % recall_score(y_true=y_test, y_pred=y_pred, pos_label=0)) \n",
    "print('Полнота злокачественная: %.3f' % recall_score(y_true=y_test, y_pred=y_pred, pos_label=1))  \n",
    "print('Верность: %.3f' % accuracy_score(y_true=y_test, y_pred=y_pred))"
   ]
  },
  {
   "cell_type": "code",
   "execution_count": 10,
   "metadata": {},
   "outputs": [
    {
     "name": "stdout",
     "output_type": "stream",
     "text": [
      "Чиcлo ошибочно классифицированных образцов : 61 \n",
      "[[ 84  47]\n",
      " [ 14 104]]\n",
      "Точность доброкачественная: 0.857\n",
      "Точность злокачественная: 0.689\n",
      "Полнота доброкачественная: 0.641\n",
      "Полнота злокачественная: 0.881\n",
      "Верность: 0.755\n"
     ]
    }
   ],
   "source": [
    "from sklearn.svm import SVC\n",
    "svm =SVC(kernel='rbf', random_state=0, gamma=40, C=1.0)\n",
    "svm.fit(X_train_std, y_train)\n",
    "y_pred = svm.predict(X_test_std)\n",
    "print('Чиcлo ошибочно классифицированных образцов : %d ' % (y_test != y_pred).sum())\n",
    "from sklearn.metrics import confusion_matrix\n",
    "confmat = confusion_matrix(y_true=y_test, y_pred=y_pred)\n",
    "print(confmat)\n",
    "print('Точность доброкачественная: %.3f' % precision_score(y_true=y_test, y_pred=y_pred, pos_label=0)) \n",
    "print('Точность злокачественная: %.3f' % precision_score(y_true=y_test, y_pred=y_pred, pos_label=1))\n",
    "print('Полнота доброкачественная: %.3f' % recall_score(y_true=y_test, y_pred=y_pred, pos_label=0)) \n",
    "print('Полнота злокачественная: %.3f' % recall_score(y_true=y_test, y_pred=y_pred, pos_label=1)) \n",
    "print('Верность: %.3f' % accuracy_score(y_true=y_test, y_pred=y_pred))\n"
   ]
  },
  {
   "cell_type": "code",
   "execution_count": null,
   "metadata": {},
   "outputs": [],
   "source": []
  }
 ],
 "metadata": {
  "kernelspec": {
   "display_name": "Python 3",
   "language": "python",
   "name": "python3"
  },
  "language_info": {
   "codemirror_mode": {
    "name": "ipython",
    "version": 3
   },
   "file_extension": ".py",
   "mimetype": "text/x-python",
   "name": "python",
   "nbconvert_exporter": "python",
   "pygments_lexer": "ipython3",
   "version": "3.7.3"
  }
 },
 "nbformat": 4,
 "nbformat_minor": 2
}
